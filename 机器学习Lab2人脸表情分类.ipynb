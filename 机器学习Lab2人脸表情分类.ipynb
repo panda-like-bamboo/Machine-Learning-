{
 "cells": [
  {
   "cell_type": "code",
   "execution_count": 1,
   "id": "bb078a8a",
   "metadata": {},
   "outputs": [
    {
     "data": {
      "image/png": "[encoded data removed]",
      "text/plain": [
       "<Figure size 640x480 with 1 Axes>"
      ]
     },
     "metadata": {},
     "output_type": "display_data"
    }
   ],
   "source": [
    "import matplotlib.pyplot as plt\n",
    "\n",
    "x = [i for i in range(10)]\n",
    "y = [4] * 10\n",
    "plt.plot(x, y)\n",
    "\n",
    "\n",
    "plt.show()"
   ]
  },
  {
   "cell_type": "code",
   "execution_count": 2,
   "id": "0cd29094",
   "metadata": {},
   "outputs": [
    {
     "name": "stdout",
     "output_type": "stream",
     "text": [
      "len train 25444\n",
      "len val 2831\n",
      "训练集类别: {'Angry': 0, 'Fear': 1, 'Happy': 2, 'Neutral': 3, 'Sad': 4, 'Surprise': 5}\n",
      "训练集类别数量:\n",
      "类别 0: 3566\n",
      "类别 1: 3687\n",
      "类别 2: 6472\n",
      "类别 3: 4463\n",
      "类别 4: 4375\n",
      "类别 5: 2881\n",
      "\n",
      "验证集类别数量:\n",
      "类别 0: 397\n",
      "类别 1: 410\n",
      "类别 2: 720\n",
      "类别 3: 496\n",
      "类别 4: 487\n",
      "类别 5: 321\n"
     ]
    }
   ],
   "source": [
    "from torchvision import transforms\n",
    "from torchvision.datasets import ImageFolder\n",
    "from torch.utils.data import random_split, DataLoader\n",
    "import matplotlib.pyplot as plt\n",
    "from torch.utils.data import Dataset\n",
    "import os\n",
    "from collections import Counter\n",
    "import random\n",
    "from torchvision.transforms import RandomAffine, RandomErasing\n",
    "from torchvision import transforms\n",
    "from torchvision.datasets import ImageFolder\n",
    "from torch.utils.data import random_split, DataLoader\n",
    "import matplotlib.pyplot as plt\n",
    "from torch.utils.data import DataLoader, SubsetRandomSampler\n",
    "import os\n",
    "import torch\n",
    "from torchvision.datasets import ImageFolder\n",
    "from torch.utils.data import Dataset, Subset\n",
    "import random\n",
    "\n",
    "class SingleFolderTestDataset(Dataset):\n",
    "    def __init__(self, root_dir, transform=None):\n",
    "        self.root_dir = root_dir\n",
    "        self.transform = transform\n",
    "        self.image_files = os.listdir(root_dir)\n",
    "\n",
    "    def __len__(self):\n",
    "        return len(self.image_files)\n",
    "\n",
    "    def __getitem__(self, idx):\n",
    "        img_path = os.path.join(self.root_dir, self.image_files[idx])\n",
    "        image = Image.open(img_path).convert('L')  # 假设是灰度图像\n",
    "        if self.transform:\n",
    "            image = self.transform(image)\n",
    "        # 所有图像都被视为属于同一个类别，例如类别0\n",
    "        label = 0\n",
    "        return image, label\n",
    "    \n",
    "# 数据预处理\n",
    "# 对于训练集，我们使用数据增强\n",
    "mean_gray = 0.5  # 灰度图的平均值，这里假设为0.5，实际应根据数据调整\n",
    "std_gray = 0.5   # 灰度图的标准差，这里假设为0.5，实际应根据数据调整\n",
    "size = 40       # 裁剪尺寸\n",
    "degrees = 10    # 最大旋转角度\n",
    "erase_prob = 0.7 # 随机擦除的概率\n",
    "train_transform = transforms.Compose([\n",
    "    # 灰度化\n",
    "    transforms.Grayscale(num_output_channels=1),\n",
    "    \n",
    "    # 数据增强部分\n",
    "    transforms.RandomResizedCrop(size=(size, size), scale=(0.8, 1.0)),\n",
    "    transforms.ColorJitter(brightness=0.2, contrast=0.2, saturation=0.2),\n",
    "    transforms.RandomAffine(degrees=degrees, translate=(0.1, 0.1)),\n",
    "    transforms.RandomHorizontalFlip(),\n",
    "    transforms.RandomRotation(degrees=degrees),\n",
    "    \n",
    "    # 五次裁剪与镜像扩展\n",
    "    transforms.FiveCrop(size),\n",
    "    transforms.Lambda(lambda crops: torch.stack([transforms.ToTensor()(crop) for crop in crops])),\n",
    "    transforms.Lambda(lambda tensors: torch.cat([tensors, tensors.flip(dims=[2])], dim=0)),  # 水平垂直镜像\n",
    "    \n",
    "#     # 标准化\n",
    "    transforms.Normalize(mean=[mean_gray], std=[std_gray]),\n",
    "    \n",
    "#     # 随机擦除\n",
    "    transforms.RandomErasing(p=erase_prob),\n",
    "    \n",
    "    transforms.ToTensor(),  # 将图像转换为张量\n",
    "    transforms.Normalize([0.5], [0.5])  # 假设数据已经中心化，且范围在[-1, 1]之间\n",
    "])\n",
    "\n",
    "# 对于验证集和测试集，我们不使用数据增强，只进行必要的预处理\n",
    "val_test_transform = transforms.Compose([\n",
    "    transforms.Grayscale(num_output_channels=1),\n",
    "    transforms.ToTensor(),\n",
    "    transforms.Normalize([0.5], [0.5])  # 假设使用[-1, 1]范围\n",
    "])\n",
    "\n",
    "batch_size = 128\n",
    "# 数据路径\n",
    "train_dir = r\"C:/Users/ymh33/Desktop/MachineLearning/fer_data/fer_data/train\"\n",
    "test_dir = r\"C:/Users/ymh33/Desktop/MachineLearning/fer_data/fer_data/test\"\n",
    "\n",
    "# 加载训练数据\n",
    "original_dataset = ImageFolder(root=train_dir, transform=train_transform)\n",
    "original_loader = DataLoader(original_dataset, batch_size=batch_size, shuffle=False)\n",
    "# 分割数据集\n",
    "total_size = len(original_dataset)\n",
    "train_size = int(0.95 * total_size)  # 95%用于训练\n",
    "val_size = total_size - train_size  # 5%用于验证\n",
    "\n",
    "# 计算每个类别的样本数量\n",
    "class_counts = Counter(original_dataset.targets)\n",
    "train_counts = {cls: int(0.9 * count) for cls, count in class_counts.items()}\n",
    "val_counts = {cls: count - train_counts[cls] for cls, count in class_counts.items()}\n",
    "\n",
    "# 创建训练集和验证集的索引列表\n",
    "train_indices = []\n",
    "val_indices = []\n",
    "for cls, count in class_counts.items():\n",
    "    # 获取类别cls的所有索引\n",
    "    cls_indices = [i for i, target in enumerate(original_dataset.targets) if target == cls]\n",
    "    # 随机打乱索引\n",
    "    random.shuffle(cls_indices)\n",
    "    # 分割索引到训练集和验证集\n",
    "    train_indices.extend(cls_indices[:train_counts[cls]])\n",
    "    val_indices.extend(cls_indices[train_counts[cls]:])\n",
    "\n",
    "# 使用分层抽样分割数据集\n",
    "train_dataset = Subset(original_dataset, train_indices)\n",
    "val_dataset = Subset(original_dataset, val_indices)\n",
    "print(f\"len train {len(train_dataset)}\")\n",
    "print(f\"len val {len(val_dataset)}\")\n",
    "\n",
    "# 创建训练和验证数据加载器\n",
    "train_loader = DataLoader(train_dataset, batch_size=batch_size, shuffle=True)\n",
    "\n",
    "# 为验证集设置新的transform\n",
    "val_dataset.dataset.transform = val_test_transform\n",
    "val_loader = DataLoader(val_dataset, batch_size=batch_size, shuffle=False)\n",
    "\n",
    "# 加载测试数据\n",
    "test_dataset = SingleFolderTestDataset(root_dir=test_dir, transform=val_test_transform)\n",
    "test_loader = DataLoader(test_dataset, batch_size=batch_size, shuffle=False)\n",
    "\n",
    "# 打印数据集信息\n",
    "print(f\"训练集类别: {original_dataset.class_to_idx}\")\n",
    "\n",
    "# 可视化数据\n",
    "def visualize_data(dataset, index):\n",
    "    image, label = dataset[index]\n",
    "    plt.imshow(image, cmap='gray')\n",
    "    plt.title(f\"Label: {original_dataset.classes[label]}\")\n",
    "    plt.show()\n",
    "\n",
    "# 可视化训练集中的一个样本\n",
    "# visualize_data(train_dataset, 10000)\n",
    "\n",
    "# 获取原始数据集的标签\n",
    "original_targets = original_dataset.targets\n",
    "\n",
    "# 打印训练集中的类别及其数量\n",
    "train_class_counts = Counter(original_targets[index] for index in train_dataset.indices)\n",
    "print(\"训练集类别数量:\")\n",
    "for cls, count in train_class_counts.items():\n",
    "    print(f\"类别 {cls}: {count}\")\n",
    "\n",
    "# 打印验证集中的类别及其数量\n",
    "val_class_counts = Counter(original_targets[index] for index in val_dataset.indices)\n",
    "print(\"\\n验证集类别数量:\")\n",
    "for cls, count in val_class_counts.items():\n",
    "    print(f\"类别 {cls}: {count}\")"
   ]
  },
  {
   "cell_type": "code",
   "execution_count": 3,
   "id": "1038b822",
   "metadata": {},
   "outputs": [
    {
     "name": "stderr",
     "output_type": "stream",
     "text": [
      "C:\\Users\\ymh33\\anaconda3\\Lib\\site-packages\\torchvision\\models\\_utils.py:208: UserWarning: The parameter 'pretrained' is deprecated since 0.13 and may be removed in the future, please use 'weights' instead.\n",
      "  warnings.warn(\n",
      "C:\\Users\\ymh33\\anaconda3\\Lib\\site-packages\\torchvision\\models\\_utils.py:223: UserWarning: Arguments other than a weight enum or `None` for 'weights' are deprecated since 0.13 and may be removed in the future. The current behavior is equivalent to passing `weights=ResNet18_Weights.IMAGENET1K_V1`. You can also use `weights=ResNet18_Weights.DEFAULT` to get the most up-to-date weights.\n",
      "  warnings.warn(msg)\n"
     ]
    }
   ],
   "source": [
    "import torch\n",
    "import torchvision.models as models\n",
    "from torch.optim import Adam\n",
    "from torch.optim.lr_scheduler import ExponentialLR, ReduceLROnPlateau\n",
    "from torch.nn import Conv2d\n",
    "import torch.nn as nn\n",
    "\n",
    "# 加载ResNet18模型\n",
    "model = models.resnet18(pretrained=True)\n",
    "\n",
    "# 修改模型\n",
    "model.conv1 = Conv2d(1, 64, kernel_size=(7, 7), stride=(2, 2), padding=(3, 3), bias=False)\n",
    "num_features = model.fc.in_features\n",
    "model.fc = torch.nn.Linear(num_features, 6)\n",
    "\n",
    "# 判断GPU是否可用，并将模型迁移至GPU\n",
    "device = torch.device(\"cuda\" if torch.cuda.is_available() else \"cpu\")\n",
    "model = model.to(device)\n",
    "\n",
    "criterion = nn.CrossEntropyLoss(label_smoothing=0.1, reduction='mean')\n",
    "\n",
    "# 配置Adam优化器\n",
    "optimizer = Adam(model.parameters(), lr=0.001, weight_decay=1e-4)  # Adam优化器设置，初始学习率设为0.001"
   ]
  },
  {
   "cell_type": "code",
   "execution_count": 4,
   "id": "3c622833",
   "metadata": {},
   "outputs": [],
   "source": [
    "# 初始化列表来存储损失和准确率\n",
    "train_losses = []\n",
    "val_losses = []\n",
    "val_accuracies = []\n",
    "num_epochs = 100\n",
    "\n",
    "# 初始化最佳准确率和最佳模型路径\n",
    "best_acc = 0.0\n",
    "best_model_path = \"best_model.pth\"\n",
    "# best_model_path = \"model_epoch_24.pth\""
   ]
  },
  {
   "cell_type": "code",
   "execution_count": null,
   "id": "d0303aa5",
   "metadata": {
    "scrolled": true
   },
   "outputs": [
    {
     "name": "stderr",
     "output_type": "stream",
     "text": [
      "100%|████████████████████████████████████████████████████████████████████████████████| 199/199 [03:57<00:00,  1.19s/it]\n"
     ]
    },
    {
     "name": "stdout",
     "output_type": "stream",
     "text": [
      "Epoch 1/100, Training Loss: 0.5557\n"
     ]
    },
    {
     "name": "stderr",
     "output_type": "stream",
     "text": [
      "100%|██████████████████████████████████████████████████████████████████████████████████| 23/23 [00:08<00:00,  2.82it/s]\n"
     ]
    },
    {
     "name": "stdout",
     "output_type": "stream",
     "text": [
      "Epoch 1/100, Validation Loss: 0.6952, Validation Accuracy: 87.74%\n"
     ]
    },
    {
     "name": "stderr",
     "output_type": "stream",
     "text": [
      "100%|████████████████████████████████████████████████████████████████████████████████| 199/199 [04:32<00:00,  1.37s/it]\n"
     ]
    },
    {
     "name": "stdout",
     "output_type": "stream",
     "text": [
      "Epoch 2/100, Training Loss: 0.5479\n"
     ]
    },
    {
     "name": "stderr",
     "output_type": "stream",
     "text": [
      "100%|██████████████████████████████████████████████████████████████████████████████████| 23/23 [00:08<00:00,  2.78it/s]\n"
     ]
    },
    {
     "name": "stdout",
     "output_type": "stream",
     "text": [
      "Epoch 2/100, Validation Loss: 0.6828, Validation Accuracy: 88.24%\n"
     ]
    },
    {
     "name": "stderr",
     "output_type": "stream",
     "text": [
      " 75%|████████████████████████████████████████████████████████████▎                   | 150/199 [03:31<00:57,  1.18s/it]"
     ]
    }
   ],
   "source": [
    "import matplotlib.pyplot as plt\n",
    "import torch\n",
    "from tqdm import tqdm\n",
    "\n",
    "\n",
    "# model_epoch_24.pth\n",
    "model.load_state_dict(torch.load(best_model_path))\n",
    "model.to(device)\n",
    "\n",
    "# 训练循环\n",
    "for epoch in range(num_epochs):\n",
    "    model.train()\n",
    "    running_loss = 0.0\n",
    "    for images, labels in tqdm(train_loader):\n",
    "        images = images.to(device)\n",
    "        labels = labels.to(device)\n",
    "#         print(labels)\n",
    "        optimizer.zero_grad()\n",
    "        outputs = model(images)\n",
    "#         print(outputs)\n",
    "        loss = criterion(outputs, labels)\n",
    "        loss.backward()\n",
    "        optimizer.step()\n",
    "        running_loss += loss.item() * images.size(0)\n",
    "\n",
    "    # 每个epoch的平均训练损失\n",
    "    avg_train_loss = running_loss / len(train_loader.dataset)\n",
    "    train_losses.append(avg_train_loss)\n",
    "    print(f\"Epoch {epoch+1}/{num_epochs}, Training Loss: {avg_train_loss:.4f}\")\n",
    "\n",
    "    # 验证损失和准确率\n",
    "    model.eval()\n",
    "    val_loss = 0.0\n",
    "    correct = 0\n",
    "    total = 0\n",
    "    with torch.no_grad():\n",
    "        for images, labels in tqdm(val_loader):\n",
    "            images = images.to(device)\n",
    "            labels = labels.to(device)\n",
    "            outputs = model(images)\n",
    "            loss = criterion(outputs, labels)\n",
    "            val_loss += loss.item() * images.size(0)\n",
    "            _, predicted = torch.max(outputs.data, 1)\n",
    "            total += labels.size(0)\n",
    "            correct += (predicted == labels).sum().item()\n",
    "    avg_val_loss = val_loss / len(val_loader.dataset)\n",
    "    val_losses.append(avg_val_loss)\n",
    "    acc = 100 * correct / total\n",
    "    val_accuracies.append(acc)\n",
    "    print(f\"Epoch {epoch+1}/{num_epochs}, Validation Loss: {avg_val_loss:.4f}, Validation Accuracy: {acc:.2f}%\")\n",
    "\n",
    "    # 每隔3个epoch保存模型\n",
    "    if (epoch + 1) % 3 == 0:\n",
    "        torch.save(model.state_dict(), f\"model_epoch_{epoch+1}.pth\")\n",
    "        print(f\"Model saved at epoch {epoch+1}\")\n",
    "\n",
    "    # 更新最优模型\n",
    "    if acc > best_acc:\n",
    "        best_acc = acc\n",
    "        torch.save(model.state_dict(), best_model_path)\n",
    "        print(f\"Best model updated at epoch {epoch+1} with accuracy {best_acc:.2f}%\")"
   ]
  },
  {
   "cell_type": "code",
   "execution_count": 6,
   "id": "cb4e3f10",
   "metadata": {},
   "outputs": [
    {
     "data": {
      "image/png": "[encoded data removed]",
      "text/plain": [
       "<Figure size 1200x600 with 2 Axes>"
      ]
     },
     "metadata": {},
     "output_type": "display_data"
    }
   ],
   "source": [
    "# 绘制损失和准确率的变化曲线\n",
    "plt.figure(figsize=(12, 6))\n",
    "\n",
    "# 损失曲线\n",
    "plt.subplot(1, 2, 1)\n",
    "plt.plot(range(1, len(train_losses) + 1), train_losses, label='Training Loss')\n",
    "plt.plot(range(1, len(val_losses) + 1), val_losses, label='Validation Loss')\n",
    "plt.title('Loss over Epochs')\n",
    "plt.xlabel('Epochs')\n",
    "plt.ylabel('Loss')\n",
    "plt.legend()\n",
    "\n",
    "# 准确率曲线\n",
    "plt.subplot(1, 2, 2)\n",
    "plt.plot(range(1, len(val_accuracies) + 1), val_accuracies, label='Validation Accuracy')\n",
    "plt.title('Accuracy over Epochs')\n",
    "plt.xlabel('Epochs')\n",
    "plt.ylabel('Accuracy (%)')\n",
    "plt.legend()\n",
    "\n",
    "plt.tight_layout()\n",
    "plt.show()"
   ]
  },
  {
   "cell_type": "code",
   "execution_count": 7,
   "id": "c0fc90bc",
   "metadata": {},
   "outputs": [
    {
     "data": {
      "text/plain": [
       "ResNet(\n",
       "  (conv1): Conv2d(1, 64, kernel_size=(7, 7), stride=(2, 2), padding=(3, 3), bias=False)\n",
       "  (bn1): BatchNorm2d(64, eps=1e-05, momentum=0.1, affine=True, track_running_stats=True)\n",
       "  (relu): ReLU(inplace=True)\n",
       "  (maxpool): MaxPool2d(kernel_size=3, stride=2, padding=1, dilation=1, ceil_mode=False)\n",
       "  (layer1): Sequential(\n",
       "    (0): BasicBlock(\n",
       "      (conv1): Conv2d(64, 64, kernel_size=(3, 3), stride=(1, 1), padding=(1, 1), bias=False)\n",
       "      (bn1): BatchNorm2d(64, eps=1e-05, momentum=0.1, affine=True, track_running_stats=True)\n",
       "      (relu): ReLU(inplace=True)\n",
       "      (conv2): Conv2d(64, 64, kernel_size=(3, 3), stride=(1, 1), padding=(1, 1), bias=False)\n",
       "      (bn2): BatchNorm2d(64, eps=1e-05, momentum=0.1, affine=True, track_running_stats=True)\n",
       "    )\n",
       "    (1): BasicBlock(\n",
       "      (conv1): Conv2d(64, 64, kernel_size=(3, 3), stride=(1, 1), padding=(1, 1), bias=False)\n",
       "      (bn1): BatchNorm2d(64, eps=1e-05, momentum=0.1, affine=True, track_running_stats=True)\n",
       "      (relu): ReLU(inplace=True)\n",
       "      (conv2): Conv2d(64, 64, kernel_size=(3, 3), stride=(1, 1), padding=(1, 1), bias=False)\n",
       "      (bn2): BatchNorm2d(64, eps=1e-05, momentum=0.1, affine=True, track_running_stats=True)\n",
       "    )\n",
       "  )\n",
       "  (layer2): Sequential(\n",
       "    (0): BasicBlock(\n",
       "      (conv1): Conv2d(64, 128, kernel_size=(3, 3), stride=(2, 2), padding=(1, 1), bias=False)\n",
       "      (bn1): BatchNorm2d(128, eps=1e-05, momentum=0.1, affine=True, track_running_stats=True)\n",
       "      (relu): ReLU(inplace=True)\n",
       "      (conv2): Conv2d(128, 128, kernel_size=(3, 3), stride=(1, 1), padding=(1, 1), bias=False)\n",
       "      (bn2): BatchNorm2d(128, eps=1e-05, momentum=0.1, affine=True, track_running_stats=True)\n",
       "      (downsample): Sequential(\n",
       "        (0): Conv2d(64, 128, kernel_size=(1, 1), stride=(2, 2), bias=False)\n",
       "        (1): BatchNorm2d(128, eps=1e-05, momentum=0.1, affine=True, track_running_stats=True)\n",
       "      )\n",
       "    )\n",
       "    (1): BasicBlock(\n",
       "      (conv1): Conv2d(128, 128, kernel_size=(3, 3), stride=(1, 1), padding=(1, 1), bias=False)\n",
       "      (bn1): BatchNorm2d(128, eps=1e-05, momentum=0.1, affine=True, track_running_stats=True)\n",
       "      (relu): ReLU(inplace=True)\n",
       "      (conv2): Conv2d(128, 128, kernel_size=(3, 3), stride=(1, 1), padding=(1, 1), bias=False)\n",
       "      (bn2): BatchNorm2d(128, eps=1e-05, momentum=0.1, affine=True, track_running_stats=True)\n",
       "    )\n",
       "  )\n",
       "  (layer3): Sequential(\n",
       "    (0): BasicBlock(\n",
       "      (conv1): Conv2d(128, 256, kernel_size=(3, 3), stride=(2, 2), padding=(1, 1), bias=False)\n",
       "      (bn1): BatchNorm2d(256, eps=1e-05, momentum=0.1, affine=True, track_running_stats=True)\n",
       "      (relu): ReLU(inplace=True)\n",
       "      (conv2): Conv2d(256, 256, kernel_size=(3, 3), stride=(1, 1), padding=(1, 1), bias=False)\n",
       "      (bn2): BatchNorm2d(256, eps=1e-05, momentum=0.1, affine=True, track_running_stats=True)\n",
       "      (downsample): Sequential(\n",
       "        (0): Conv2d(128, 256, kernel_size=(1, 1), stride=(2, 2), bias=False)\n",
       "        (1): BatchNorm2d(256, eps=1e-05, momentum=0.1, affine=True, track_running_stats=True)\n",
       "      )\n",
       "    )\n",
       "    (1): BasicBlock(\n",
       "      (conv1): Conv2d(256, 256, kernel_size=(3, 3), stride=(1, 1), padding=(1, 1), bias=False)\n",
       "      (bn1): BatchNorm2d(256, eps=1e-05, momentum=0.1, affine=True, track_running_stats=True)\n",
       "      (relu): ReLU(inplace=True)\n",
       "      (conv2): Conv2d(256, 256, kernel_size=(3, 3), stride=(1, 1), padding=(1, 1), bias=False)\n",
       "      (bn2): BatchNorm2d(256, eps=1e-05, momentum=0.1, affine=True, track_running_stats=True)\n",
       "    )\n",
       "  )\n",
       "  (layer4): Sequential(\n",
       "    (0): BasicBlock(\n",
       "      (conv1): Conv2d(256, 512, kernel_size=(3, 3), stride=(2, 2), padding=(1, 1), bias=False)\n",
       "      (bn1): BatchNorm2d(512, eps=1e-05, momentum=0.1, affine=True, track_running_stats=True)\n",
       "      (relu): ReLU(inplace=True)\n",
       "      (conv2): Conv2d(512, 512, kernel_size=(3, 3), stride=(1, 1), padding=(1, 1), bias=False)\n",
       "      (bn2): BatchNorm2d(512, eps=1e-05, momentum=0.1, affine=True, track_running_stats=True)\n",
       "      (downsample): Sequential(\n",
       "        (0): Conv2d(256, 512, kernel_size=(1, 1), stride=(2, 2), bias=False)\n",
       "        (1): BatchNorm2d(512, eps=1e-05, momentum=0.1, affine=True, track_running_stats=True)\n",
       "      )\n",
       "    )\n",
       "    (1): BasicBlock(\n",
       "      (conv1): Conv2d(512, 512, kernel_size=(3, 3), stride=(1, 1), padding=(1, 1), bias=False)\n",
       "      (bn1): BatchNorm2d(512, eps=1e-05, momentum=0.1, affine=True, track_running_stats=True)\n",
       "      (relu): ReLU(inplace=True)\n",
       "      (conv2): Conv2d(512, 512, kernel_size=(3, 3), stride=(1, 1), padding=(1, 1), bias=False)\n",
       "      (bn2): BatchNorm2d(512, eps=1e-05, momentum=0.1, affine=True, track_running_stats=True)\n",
       "    )\n",
       "  )\n",
       "  (avgpool): AdaptiveAvgPool2d(output_size=(1, 1))\n",
       "  (fc): Linear(in_features=512, out_features=6, bias=True)\n",
       ")"
      ]
     },
     "execution_count": 7,
     "metadata": {},
     "output_type": "execute_result"
    }
   ],
   "source": [
    "# 加载最优模型\n",
    "# best_model_path = \"model_epoch_24.pth\"\n",
    "best_model_path = \"best_model.pth\"\n",
    "model.load_state_dict(torch.load(best_model_path))\n",
    "model.to(device)"
   ]
  },
  {
   "cell_type": "code",
   "execution_count": 8,
   "id": "253ef655",
   "metadata": {},
   "outputs": [
    {
     "name": "stderr",
     "output_type": "stream",
     "text": [
      "100%|██████████████████████████████████████████████████████████████████████████████████| 23/23 [00:08<00:00,  2.84it/s]\n"
     ]
    },
    {
     "name": "stdout",
     "output_type": "stream",
     "text": [
      "Epoch 4/100, Validation Loss: 0.6079, Validation Accuracy: 92.19%\n"
     ]
    },
    {
     "data": {
      "image/png": "[encoded data removed]",
      "text/plain": [
       "<Figure size 800x800 with 2 Axes>"
      ]
     },
     "metadata": {},
     "output_type": "display_data"
    },
    {
     "name": "stdout",
     "output_type": "stream",
     "text": [
      "[[365  12   3   3  10   4]\n",
      " [ 13 364   4   4  17   8]\n",
      " [  9   2 693   8   2   6]\n",
      " [ 13  10   6 446  13   8]\n",
      " [ 15  12   1  15 442   2]\n",
      " [  0  10   7   0   4 300]]\n"
     ]
    }
   ],
   "source": [
    "import numpy as np\n",
    "import matplotlib.pyplot as plt\n",
    "from sklearn.metrics import confusion_matrix\n",
    "import seaborn as sns\n",
    "import os\n",
    "from PIL import Image\n",
    "import shutil\n",
    "from tqdm import tqdm\n",
    "\n",
    "# 初始化空列表以存储预测结果和真实标签\n",
    "predictions = []\n",
    "true_labels = []\n",
    "num_classes = 6\n",
    "# 在验证集上计算预测结果\n",
    "model.eval()\n",
    "val_loss = 0.0\n",
    "correct = 0\n",
    "\n",
    "total = 0\n",
    "label_dict = {\n",
    "0: \"生气\",\n",
    "1: \"恐惧\",\n",
    "2: \"高兴\",\n",
    "3: \"自然\",\n",
    "4: \"伤心\",\n",
    "5: \"惊讶\"\n",
    "}\n",
    "\n",
    "# 可视化数据\n",
    "def visualize_data(dataset, index):\n",
    "    image, label = dataset[index]\n",
    "    plt.imshow(image.squeeze(), cmap='gray')\n",
    "    plt.title(f\"Label: {original_dataset.classes[label]}\")\n",
    "    plt.show()\n",
    "    \n",
    "folder_path = \"confusion_matrix_images\"\n",
    "if os.path.exists(folder_path):\n",
    "    # 使用shutil模块的rmtree函数删除文件夹及其内容\n",
    "    shutil.rmtree(folder_path)\n",
    "    print(\"已删除\")\n",
    "\n",
    "# for i in range(num_classes):\n",
    "#     for j in range(num_classes):\n",
    "#         folder_name = f\"{i}_{j}\"\n",
    "#         folder_path = os.path.join(\"confusion_matrix_images\", folder_name)\n",
    "#         if not os.path.exists(folder_path):\n",
    "#             os.makedirs(folder_path)\n",
    "cnt = 0      \n",
    "with torch.no_grad():\n",
    "    for images, labels in tqdm(val_loader):\n",
    "        images = images.to(device)\n",
    "        labels = labels.to(device)\n",
    "        outputs = model(images)\n",
    "        loss = criterion(outputs, labels)\n",
    "        val_loss += loss.item()\n",
    "        _, predicted = torch.max(outputs.data, 1)\n",
    "        total += labels.size(0)\n",
    "        correct += (predicted == labels).sum().item()\n",
    "\n",
    "        # 收集预测结果和真实标签\n",
    "        predictions.extend(predicted.cpu().numpy())\n",
    "        true_labels.extend(labels.cpu().numpy())\n",
    "        \n",
    "#         for label, pred in zip(labels, predicted):\n",
    "#             label, pred = label.item(), pred.item()\n",
    "# #             print(f\"pred:{pred}\\nlabel:{label}\")\n",
    "# #             print(f\"type {type(pred)}  {type(label)}\")\n",
    "#             image, true_label = original_dataset[cnt]\n",
    "#             folder_path = os.path.join(\"confusion_matrix_images\", f\"{label}_{pred}\")\n",
    "#             image_path = os.path.join(folder_path, str(cnt))\n",
    "#             image_array = image.cpu().numpy()\n",
    "#             plt.rcParams[\"font.sans-serif\"] = [\"SimHei\"]\n",
    "#             plt.figure()\n",
    "#             plt.title(f\"真实/预测 {label_dict[label]} / {label_dict[pred]}\")\n",
    "#             plt.imshow(image_array.squeeze(), cmap='gray')\n",
    "#             plt.savefig(image_path)\n",
    "#             plt.close()\n",
    "# #             plt.show()\n",
    "#             cnt += 1\n",
    "\n",
    "# 计算平均验证损失和准确率\n",
    "avg_val_loss = val_loss / len(val_loader)\n",
    "val_losses.append(avg_val_loss)\n",
    "acc = 100 * correct / total\n",
    "val_accuracies.append(acc)\n",
    "epoch = 3\n",
    "print(f\"Epoch {epoch+1}/{num_epochs}, Validation Loss: {avg_val_loss:.4f}, Validation Accuracy: {acc:.2f}%\")\n",
    "\n",
    "# 计算混淆矩阵\n",
    "confusion_mat = confusion_matrix(true_labels, predictions)\n",
    "# 绘制混淆矩阵\n",
    "plt.figure(figsize=(8, 8))\n",
    "sns.heatmap(confusion_mat, annot=True, fmt=\"d\", cmap=\"Blues\",\n",
    "            xticklabels=range(num_classes), yticklabels=range(num_classes))\n",
    "plt.xlabel('Predicted')\n",
    "plt.ylabel('True')\n",
    "plt.title('Confusion Matrix')\n",
    "plt.show()\n",
    "\n",
    "print(confusion_mat)"
   ]
  },
  {
   "cell_type": "code",
   "execution_count": 9,
   "id": "3ce7e56f",
   "metadata": {
    "scrolled": true
   },
   "outputs": [
    {
     "name": "stderr",
     "output_type": "stream",
     "text": [
      "100%|██████████████████████████████████████████████████████████████████████████████████| 56/56 [00:21<00:00,  2.66it/s]"
     ]
    },
    {
     "name": "stdout",
     "output_type": "stream",
     "text": [
      "预测结果已保存到result.txt文件中。\n"
     ]
    },
    {
     "name": "stderr",
     "output_type": "stream",
     "text": [
      "\n"
     ]
    }
   ],
   "source": [
    "# 在测试集上评估模型\n",
    "from PIL import Image\n",
    "from tqdm import tqdm\n",
    "model.eval()\n",
    "predictions = []\n",
    "true_labels = []\n",
    "with torch.no_grad():\n",
    "    for images, labels in tqdm(test_loader):\n",
    "        images = images.to(device)\n",
    "        outputs = model(images)\n",
    "        _, predicted = torch.max(outputs.data, 1)\n",
    "        # 直接使用数字标签\n",
    "        predictions.extend(predicted.tolist())\n",
    "        true_labels.extend(labels.cpu().numpy())\n",
    "\n",
    "# 保存预测结果到result.txt\n",
    "with open('result.txt', 'w') as f:\n",
    "    for label in predictions:\n",
    "        f.write(f\"{label}\\n\")\n",
    "\n",
    "print(\"预测结果已保存到result.txt文件中。\")"
   ]
  },
  {
   "cell_type": "code",
   "execution_count": 10,
   "id": "e5f0e87e",
   "metadata": {},
   "outputs": [
    {
     "name": "stdout",
     "output_type": "stream",
     "text": [
      "映射转换后的结果已保存到mapped_result.txt文件中。\n"
     ]
    }
   ],
   "source": [
    "# 定义新的映射关系\n",
    "idx_to_class = {0: 0, 1: 1, 2: 2, 3: 5, 4: 3, 5: 4}\n",
    "\n",
    "# 读取result.txt中的数字，并进行映射转换\n",
    "with open('result.txt', 'r') as f:\n",
    "    original_labels = [int(line.strip()) for line in f.readlines()]\n",
    "\n",
    "# 进行映射转换\n",
    "mapped_labels = [idx_to_class[label] for label in original_labels]\n",
    "\n",
    "# 保存转换后的结果到新的文件中\n",
    "with open('mapped_result.txt', 'w') as f:\n",
    "    for label in mapped_labels:\n",
    "        f.write(f\"{label}\\n\")\n",
    "\n",
    "print(\"映射转换后的结果已保存到mapped_result.txt文件中。\")"
   ]
  },
  {
   "cell_type": "code",
   "execution_count": 11,
   "id": "363aafdc",
   "metadata": {},
   "outputs": [],
   "source": [
    "import pandas as pd\n",
    "\n",
    "# 读取CSV文件\n",
    "df = pd.read_csv(r'C:/Users/ymh33/Desktop/MachineLearning/fer_data/fer_data/submission.csv')\n",
    "\n",
    "# 读取mapped_result.txt文件\n",
    "with open('mapped_result.txt', 'r') as file:\n",
    "    mapped_results = file.read().splitlines()\n",
    "\n",
    "# 确保mapped_results列表的长度足够长，以匹配CSV文件的行数\n",
    "if len(mapped_results) < len(df):\n",
    "    raise ValueError(\"The mapped_results list is shorter than the number of rows in the CSV file.\")\n",
    "\n",
    "# 替换CSV文件中的数字\n",
    "df['Emotion'] = [mapped_results[i] for i in range(len(df))]\n",
    "\n",
    "# 保存修改后的CSV文件\n",
    "df.to_csv('C:/Users/ymh33/Desktop/MachineLearning/fer_data/fer_data/submission_modified.csv', index=False)"
   ]
  },
  {
   "cell_type": "code",
   "execution_count": null,
   "id": "4818b56f",
   "metadata": {},
   "outputs": [],
   "source": []
  },
  {
   "cell_type": "code",
   "execution_count": null,
   "id": "5be7a997",
   "metadata": {},
   "outputs": [],
   "source": []
  },
  {
   "cell_type": "code",
   "execution_count": null,
   "id": "8cdc3073",
   "metadata": {},
   "outputs": [],
   "source": []
  },
  {
   "cell_type": "code",
   "execution_count": null,
   "id": "89409677",
   "metadata": {},
   "outputs": [],
   "source": []
  },
  {
   "cell_type": "code",
   "execution_count": null,
   "id": "e02b2049",
   "metadata": {},
   "outputs": [],
   "source": []
  }
 ],
 "metadata": {
  "kernelspec": {
   "display_name": "Python 3 (ipykernel)",
   "language": "python",
   "name": "python3"
  },
  "language_info": {
   "codemirror_mode": {
    "name": "ipython",
    "version": 3
   },
   "file_extension": ".py",
   "mimetype": "text/x-python",
   "name": "python",
   "nbconvert_exporter": "python",
   "pygments_lexer": "ipython3",
   "version": "3.11.4"
  }
 },
 "nbformat": 4,
 "nbformat_minor": 5
}
